{
 "cells": [
  {
   "cell_type": "markdown",
   "id": "8048ee57-f608-485a-b862-6741b2b3c6da",
   "metadata": {},
   "source": [
    "# Basic Python Excersise"
   ]
  },
  {
   "cell_type": "raw",
   "id": "42767923-df0a-4799-81e2-4d5d2d78f73c",
   "metadata": {},
   "source": [
    "Q1: What is the output of following expression\n",
    "    5 + 4 * 9 % (3 + 1) / 6 - 1"
   ]
  },
  {
   "cell_type": "code",
   "execution_count": 102,
   "id": "052033ec-7040-4029-880b-fa3682fcab38",
   "metadata": {},
   "outputs": [
    {
     "data": {
      "text/plain": [
       "4.0"
      ]
     },
     "execution_count": 102,
     "metadata": {},
     "output_type": "execute_result"
    }
   ],
   "source": [
    "5 + 4 * 9 % (3 + 1) / 6 - 1"
   ]
  },
  {
   "cell_type": "raw",
   "id": "6e8cff2b-5e13-4659-8199-4f8982a1da08",
   "metadata": {},
   "source": [
    "Q2: Write a program to check if a Number is Odd or Even. Take number as a input from user at runtime."
   ]
  },
  {
   "cell_type": "code",
   "execution_count": 103,
   "id": "c6d63fe8-b8a9-453d-aa58-37a6f2944ffa",
   "metadata": {},
   "outputs": [
    {
     "name": "stdin",
     "output_type": "stream",
     "text": [
      "Enter the no - 7\n"
     ]
    },
    {
     "name": "stdout",
     "output_type": "stream",
     "text": [
      "The No is odd 7\n"
     ]
    }
   ],
   "source": [
    "x=int(input('Enter the no -'))\n",
    "if x%2==0:\n",
    "    print('The No is Even')\n",
    "else:\n",
    "    print('The No is odd',x)"
   ]
  },
  {
   "cell_type": "raw",
   "id": "3f8d39f2-e064-4a57-84ae-392b77d16ac7",
   "metadata": {},
   "source": [
    "Q3: Write a program to display the multiplication table by taking a number as input. \n",
    "    [Hint : Use print statement inside of a loop]"
   ]
  },
  {
   "cell_type": "code",
   "execution_count": 18,
   "id": "4fe46a73-90cf-40a3-95ea-568129cc3f8f",
   "metadata": {},
   "outputs": [
    {
     "name": "stdin",
     "output_type": "stream",
     "text": [
      "Enter the no: 3\n"
     ]
    },
    {
     "name": "stdout",
     "output_type": "stream",
     "text": [
      "3 x 1 = 3\n",
      "3 x 2 = 6\n",
      "3 x 3 = 9\n",
      "3 x 4 = 12\n",
      "3 x 5 = 15\n",
      "3 x 6 = 18\n",
      "3 x 7 = 21\n",
      "3 x 8 = 24\n",
      "3 x 9 = 27\n",
      "3 x 10 = 30\n"
     ]
    }
   ],
   "source": [
    "num=int(input('Enter the no:'))\n",
    "for i in range(1,11):\n",
    "    print(num,'x',i,'=',i*num)\n"
   ]
  },
  {
   "cell_type": "raw",
   "id": "48d85952-c2ad-4909-b36f-3710caa566b7",
   "metadata": {},
   "source": [
    "Q4: Write a program which will find all numbers between 2000 and 3200 which are divisible by 7 \n",
    "    but are not a multiple of 5.\n",
    " \n",
    "Note: The numbers obtained should be printed in a comma-separated sequence on a single line."
   ]
  },
  {
   "cell_type": "code",
   "execution_count": 153,
   "id": "64d3b441-929b-4888-8bcd-575f9e610b26",
   "metadata": {},
   "outputs": [
    {
     "name": "stdout",
     "output_type": "stream",
     "text": [
      "2002\n",
      "2009\n",
      "2016\n",
      "2023\n",
      "2037\n",
      "2044\n",
      "2051\n",
      "2058\n",
      "2072\n",
      "2079\n",
      "2086\n",
      "2093\n",
      "2107\n",
      "2114\n",
      "2121\n",
      "2128\n",
      "2142\n",
      "2149\n",
      "2156\n",
      "2163\n",
      "2177\n",
      "2184\n",
      "2191\n",
      "2198\n",
      "2212\n",
      "2219\n",
      "2226\n",
      "2233\n",
      "2247\n",
      "2254\n",
      "2261\n",
      "2268\n",
      "2282\n",
      "2289\n",
      "2296\n",
      "2303\n",
      "2317\n",
      "2324\n",
      "2331\n",
      "2338\n",
      "2352\n",
      "2359\n",
      "2366\n",
      "2373\n",
      "2387\n",
      "2394\n",
      "2401\n",
      "2408\n",
      "2422\n",
      "2429\n",
      "2436\n",
      "2443\n",
      "2457\n",
      "2464\n",
      "2471\n",
      "2478\n",
      "2492\n",
      "2499\n",
      "2506\n",
      "2513\n",
      "2527\n",
      "2534\n",
      "2541\n",
      "2548\n",
      "2562\n",
      "2569\n",
      "2576\n",
      "2583\n",
      "2597\n",
      "2604\n",
      "2611\n",
      "2618\n",
      "2632\n",
      "2639\n",
      "2646\n",
      "2653\n",
      "2667\n",
      "2674\n",
      "2681\n",
      "2688\n",
      "2702\n",
      "2709\n",
      "2716\n",
      "2723\n",
      "2737\n",
      "2744\n",
      "2751\n",
      "2758\n",
      "2772\n",
      "2779\n",
      "2786\n",
      "2793\n",
      "2807\n",
      "2814\n",
      "2821\n",
      "2828\n",
      "2842\n",
      "2849\n",
      "2856\n",
      "2863\n",
      "2877\n",
      "2884\n",
      "2891\n",
      "2898\n",
      "2912\n",
      "2919\n",
      "2926\n",
      "2933\n",
      "2947\n",
      "2954\n",
      "2961\n",
      "2968\n",
      "2982\n",
      "2989\n",
      "2996\n",
      "3003\n",
      "3017\n",
      "3024\n",
      "3031\n",
      "3038\n",
      "3052\n",
      "3059\n",
      "3066\n",
      "3073\n",
      "3087\n",
      "3094\n",
      "3101\n",
      "3108\n",
      "3122\n",
      "3129\n",
      "3136\n",
      "3143\n",
      "3157\n",
      "3164\n",
      "3171\n",
      "3178\n",
      "3192\n",
      "3199\n"
     ]
    }
   ],
   "source": [
    "for i in range(2000,3200):\n",
    "    if (i%7==0) and (i%5!=0):\n",
    "       print(i)\n",
    "    "
   ]
  },
  {
   "cell_type": "raw",
   "id": "49ea40df-213c-4d79-abd4-10af4cc1680f",
   "metadata": {},
   "source": [
    "Q5: Count the elements of each datatype inside the list and display in output\n",
    "    [2, 3, 'Py', '10', 1, 'SQL', 5.5, True, 3, 'John', None, 7]    "
   ]
  },
  {
   "cell_type": "code",
   "execution_count": 143,
   "id": "7abe031d-5eb1-476d-8f2d-3d165fee4a06",
   "metadata": {},
   "outputs": [],
   "source": [
    "n1=[2, 3, 'Py', '10', 1, 'SQL', 5.5, True, 3, 'John', None, 7]    "
   ]
  },
  {
   "cell_type": "code",
   "execution_count": 144,
   "id": "1e2e5830-895b-4840-b24b-0f611e6365df",
   "metadata": {},
   "outputs": [
    {
     "name": "stdout",
     "output_type": "stream",
     "text": [
      "<class 'list'>\n"
     ]
    }
   ],
   "source": [
    "print(type(n1))"
   ]
  },
  {
   "cell_type": "code",
   "execution_count": 145,
   "id": "052af203-c1bc-4874-bc62-6591c23415ba",
   "metadata": {},
   "outputs": [
    {
     "name": "stdout",
     "output_type": "stream",
     "text": [
      "Data type: {'int': 5, 'str': 4, 'float': 1, 'bool': 1, 'NoneType': 1}\n"
     ]
    }
   ],
   "source": [
    "type_count={}\n",
    "for i in n1:\n",
    "    dtype=type(i).__name__\n",
    "    type_count[dtype]=type_count.get(dtype,0) +1\n",
    "print(\"Data type:\",type_count)\n"
   ]
  },
  {
   "cell_type": "code",
   "execution_count": null,
   "id": "3ed9781d-ef1c-42d2-a89f-01f067f7eb94",
   "metadata": {},
   "outputs": [],
   "source": []
  },
  {
   "cell_type": "raw",
   "id": "c4611202-d9b6-43dc-a943-e7d40948c899",
   "metadata": {},
   "source": [
    "Q6: Add all values from the list with numeric datatypes \n",
    "    [2, 3, 'Py', '10', 1, 'SQL', 5.5, True, 3, 'John', None, 7] "
   ]
  },
  {
   "cell_type": "code",
   "execution_count": 112,
   "id": "02345488-7927-4158-b149-e3cd630c73c3",
   "metadata": {},
   "outputs": [],
   "source": [
    "r1=[2, 3, 'Py', '10', 1, 'SQL', 5.5, True, 3, 'John', None, 7] "
   ]
  },
  {
   "cell_type": "code",
   "execution_count": 149,
   "id": "fddb1b1b-5816-4f95-92e5-4544e2777bc8",
   "metadata": {},
   "outputs": [
    {
     "name": "stdout",
     "output_type": "stream",
     "text": [
      "Sum of numeric value: 22.5\n"
     ]
    }
   ],
   "source": [
    "total_sum=0\n",
    "for i in r1:\n",
    "    if isinstance(i,(int,float)):\n",
    "        total_sum+=i\n",
    "print('Sum of numeric value:',total_sum)"
   ]
  },
  {
   "cell_type": "raw",
   "id": "4e959f18-3e25-483c-ab41-8dfb29e2cdfb",
   "metadata": {},
   "source": [
    "Q7: Concat all str datatypes with hyphen as a delimiter\n",
    "    [2, 3, 'Py', '10', 1, 'SQL', 5.5, True, 3, 'John', None, 7] "
   ]
  },
  {
   "cell_type": "code",
   "execution_count": 146,
   "id": "9c95d103-3209-4cc1-8973-36fb7ccf1451",
   "metadata": {},
   "outputs": [],
   "source": [
    "num2=[2, 3, 'Py', '10', 1, 'SQL', 5.5, True, 3, 'John', None, 7]"
   ]
  },
  {
   "cell_type": "code",
   "execution_count": 147,
   "id": "046679b0-9f6c-4e5f-bee9-468f2c10861e",
   "metadata": {},
   "outputs": [
    {
     "name": "stdout",
     "output_type": "stream",
     "text": [
      "Py - 10 - SQL - John\n"
     ]
    }
   ],
   "source": [
    "strings = [str(item) for item in num2 if isinstance(item, str)]\n",
    "result = ' - '.join(strings)\n",
    "print(result)"
   ]
  },
  {
   "cell_type": "code",
   "execution_count": 148,
   "id": "391cf881-bbd2-4137-9f72-d8975d6ef291",
   "metadata": {},
   "outputs": [
    {
     "name": "stdout",
     "output_type": "stream",
     "text": [
      "2 - 3 - 1 - 3 - 7\n"
     ]
    }
   ],
   "source": [
    "ints=[str(item) for item in num2 if isinstance(item,int)and not isinstance(item, bool)]\n",
    "result=' - '.join(ints)\n",
    "print(result)"
   ]
  },
  {
   "cell_type": "raw",
   "id": "55a76dac-0d90-4698-843c-042d57642f37",
   "metadata": {},
   "source": [
    "Q8: Write a UDF that takes list as input and returns sum of all numbers \n",
    "    (exclude bool) and count of all str \n",
    "    [2, 3, 'Py', '10', 1, 'SQL', 5.5, True, 3, 'John', None, 7] \n",
    "    \n",
    "Hint:\n",
    "-----\n",
    "def my_func:\n",
    "    # your code\n",
    "        \n",
    "my_func(l1)\n",
    "# output --> {'Sum': xxx, 'Count_of_Strs': xxx}"
   ]
  },
  {
   "cell_type": "code",
   "execution_count": 151,
   "id": "e9a3bd8e-02b4-4f04-a453-39b39bdcab95",
   "metadata": {},
   "outputs": [],
   "source": [
    "num3=[2, 3, 'Py', '10', 1, 'SQL', 5.5, True, 3, 'John', None, 7]"
   ]
  },
  {
   "cell_type": "code",
   "execution_count": 152,
   "id": "0135009c-540b-4c25-88dd-1fd679efba23",
   "metadata": {},
   "outputs": [
    {
     "name": "stdout",
     "output_type": "stream",
     "text": [
      "{'sum': 21.5, 'Count_of_Strs': 4}\n"
     ]
    }
   ],
   "source": [
    "def my_func(input_no):\n",
    "    total_sum=0\n",
    "    str_count=0\n",
    "    for i in input_no:\n",
    "          if isinstance(i,(int,float)) and not isinstance(i, bool):\n",
    "              total_sum += i\n",
    "          elif isinstance(i,str):\n",
    "              str_count += 1\n",
    "    return {'sum':total_sum,'Count_of_Strs': str_count}\n",
    "\n",
    "result = my_func(num3)\n",
    "print(result)\n",
    "    "
   ]
  },
  {
   "cell_type": "raw",
   "id": "07f1ec57-c9c2-436d-941c-c8c9db3714c2",
   "metadata": {},
   "source": [
    "Q9: Get only odd numbers from the following list and store the numbers in new list\n",
    "    li = [5, 7, 22, 97, 54, 62, 77, 23, 73, 61]\n",
    "\n",
    "    i. Use loops to get the answer\n",
    "   ii. Use list comprehensions\n",
    "  iii. Use lambda function with filter"
   ]
  },
  {
   "cell_type": "code",
   "execution_count": 167,
   "id": "d836b405-6483-4cf3-b427-203732bc778d",
   "metadata": {},
   "outputs": [],
   "source": [
    "l2 = [5, 7, 22, 97, 54, 62, 77, 23, 73, 61]"
   ]
  },
  {
   "cell_type": "markdown",
   "id": "ddbadeb4-53aa-4903-9197-68ee00fe5af2",
   "metadata": {},
   "source": [
    "### using loops"
   ]
  },
  {
   "cell_type": "code",
   "execution_count": 176,
   "id": "dbbabdd9-992c-4519-897d-9569e30308e1",
   "metadata": {},
   "outputs": [
    {
     "name": "stdout",
     "output_type": "stream",
     "text": [
      "[5, 7, 97, 77, 23, 73, 61]\n"
     ]
    }
   ],
   "source": [
    "odd_numbers = []\n",
    "for i in l2:\n",
    "    if i %2!= 0:\n",
    "        odd_numbers.append(i)\n",
    "print(odd_numbers)"
   ]
  },
  {
   "cell_type": "markdown",
   "id": "4c60d4ef-1fb5-4bfa-b33a-9d3abadd5485",
   "metadata": {},
   "source": [
    "### ii. Use list comprehensions"
   ]
  },
  {
   "cell_type": "code",
   "execution_count": 180,
   "id": "f5e527b0-9943-4cc0-89fa-7f44712a09d7",
   "metadata": {},
   "outputs": [
    {
     "name": "stdout",
     "output_type": "stream",
     "text": [
      "[5, 7, 97, 77, 23, 73, 61]\n"
     ]
    }
   ],
   "source": [
    "odd_num = [i for i in l2 if i %2!=0]\n",
    "print(odd_num)"
   ]
  },
  {
   "cell_type": "markdown",
   "id": "f5072c5b-d971-4b04-aee5-f273e707f331",
   "metadata": {},
   "source": [
    "### iii. Use lambda function with filter"
   ]
  },
  {
   "cell_type": "code",
   "execution_count": 189,
   "id": "54547d7c-7c4a-46d2-9193-b864324dfe97",
   "metadata": {},
   "outputs": [
    {
     "data": {
      "text/plain": [
       "[5, 7, 97, 77, 23, 73, 61]"
      ]
     },
     "execution_count": 189,
     "metadata": {},
     "output_type": "execute_result"
    }
   ],
   "source": [
    "def odd_num(n1):\n",
    "    return n1 %2!=0\n",
    "list(filter(odd_num,l2))\n"
   ]
  },
  {
   "cell_type": "code",
   "execution_count": 185,
   "id": "bb14ab90-2d06-49c8-ab42-e13fbb755683",
   "metadata": {},
   "outputs": [
    {
     "data": {
      "text/plain": [
       "[5, 7, 97, 77, 23, 73, 61]"
      ]
     },
     "execution_count": 185,
     "metadata": {},
     "output_type": "execute_result"
    }
   ],
   "source": [
    "list(filter(odd_num,l2))"
   ]
  },
  {
   "cell_type": "code",
   "execution_count": 192,
   "id": "0ee83fce-3bc5-497b-b1de-5d546d008952",
   "metadata": {},
   "outputs": [
    {
     "data": {
      "text/plain": [
       "[5, 7, 97, 77, 23, 73, 61]"
      ]
     },
     "execution_count": 192,
     "metadata": {},
     "output_type": "execute_result"
    }
   ],
   "source": [
    "list(filter(lambda n1: n1%2!=0,l2))"
   ]
  },
  {
   "cell_type": "raw",
   "id": "cc73ca15-400a-44c9-b222-d627e86874e8",
   "metadata": {},
   "source": [
    "Q10: Write a UDF to return the descriptives [sum, count, min, mean, max] for a list of n number of input \n",
    "    numbers."
   ]
  },
  {
   "cell_type": "code",
   "execution_count": 48,
   "id": "9bdaf579-fb27-44a1-a529-18acd108855a",
   "metadata": {},
   "outputs": [
    {
     "name": "stdout",
     "output_type": "stream",
     "text": [
      "{'Sum': 590, 'Count': 20, 'Min': 20, 'Mean': 29.5, 'Max': 39}\n"
     ]
    }
   ],
   "source": [
    "def descriptives (numbers):\n",
    "    total_sum = sum(numbers)\n",
    "    count = len(numbers)\n",
    "    minimum = min(numbers)\n",
    "    mean = total_sum / count if count > 0 else 0\n",
    "    maximum= max(numbers)\n",
    "    return {'Sum':total_sum,'Count': count,'Min': minimum,'Mean': mean,'Max': maximum}\n",
    "    \n",
    "input_numbers=range(20,40)\n",
    "result = descriptives(input_numbers)\n",
    "print(result)"
   ]
  },
  {
   "cell_type": "code",
   "execution_count": 51,
   "id": "9070e835-4f57-4058-a5ab-e49edfc78a2a",
   "metadata": {},
   "outputs": [],
   "source": [
    "n4=(456,45,32,456,23,76,76)"
   ]
  },
  {
   "cell_type": "code",
   "execution_count": 52,
   "id": "f8c38ba7-bb37-4999-bcb6-012a86951057",
   "metadata": {},
   "outputs": [
    {
     "name": "stdout",
     "output_type": "stream",
     "text": [
      "{'Sum': 1164, 'Count': 7, 'Min': 23, 'Mean': 166.28571428571428, 'Max': 456}\n"
     ]
    }
   ],
   "source": [
    "result = descriptives(n4)\n",
    "print(result)"
   ]
  },
  {
   "cell_type": "raw",
   "id": "311b4560-b9a8-436c-8650-918400c1978a",
   "metadata": {},
   "source": [
    "Q11: Write an udf to calculate the area of different shapes\n",
    "\n",
    "Take shape and dimensions as arguments to udf as follows : \n",
    "\n",
    "1. square which has side\n",
    "2. rectangle which has length and width\n",
    "3. circle which has radius\n",
    "\n",
    "#The shape should be a positional argument and it's dimensions are taken as kwargs\n",
    "\n",
    "Perform proper validation for the user inputs and then calculate area.\n",
    "\n",
    "E.g. if shape is square, ensure kwargs has \"side\" and if so, \n",
    "    then you may return the area, else display appropriate error message like \"Please enter 'side' for a square\""
   ]
  },
  {
   "cell_type": "code",
   "execution_count": 168,
   "id": "f269620f-2bef-411f-8453-bf39721bbffa",
   "metadata": {},
   "outputs": [],
   "source": [
    "def shape_1(shape, **kwargs):\n",
    "    if shape=='circle':\n",
    "        area=3.14*kwargs['radius']**2\n",
    "    elif shape=='square':\n",
    "        area =kwargs['side']**2\n",
    "    elif shape=='rectangle':\n",
    "        area=0.5*kwargs['length'] * kwargs['height']\n",
    "    return area"
   ]
  },
  {
   "cell_type": "code",
   "execution_count": 169,
   "id": "caf9a845-b57f-4209-b618-9299969931c5",
   "metadata": {},
   "outputs": [
    {
     "name": "stdout",
     "output_type": "stream",
     "text": [
      "78.5\n"
     ]
    }
   ],
   "source": [
    "print(shape_1(\"circle\", radius=5))"
   ]
  },
  {
   "cell_type": "code",
   "execution_count": 170,
   "id": "320cc01d-c0dd-4387-8763-f640d9d7a2d3",
   "metadata": {},
   "outputs": [
    {
     "name": "stdout",
     "output_type": "stream",
     "text": [
      "36.0\n"
     ]
    }
   ],
   "source": [
    "print(shape_1('rectangle',length=8,height=9))"
   ]
  },
  {
   "cell_type": "raw",
   "id": "10467060-6a4e-493a-a297-2699a558f632",
   "metadata": {},
   "source": [
    "Q12: Write a UDF to reconcile the values within two lists.\n",
    "    l1 = ['January', 'February', 'March', 'May', 'June', 'September', 'December']\n",
    "    l2 = ['January', 'February', 'April', 'June', 'October', 'December']\n",
    "\n",
    "Hint:\n",
    "-----\n",
    "def func(l1, l2):\n",
    "    your code here...\n",
    "    \n",
    "Output:\n",
    "{'Matched': ['January', 'February', 'June', 'December'],\n",
    "    'Only in l1': ['March', 'May', 'September'],\n",
    "        'Only in l2': ['April', 'October']}"
   ]
  },
  {
   "cell_type": "code",
   "execution_count": 27,
   "id": "7ca995f1-e1bc-4143-8950-e976f9796cf8",
   "metadata": {},
   "outputs": [],
   "source": [
    "l1 = ['January', 'February', 'March', 'May', 'June', 'September', 'December']\n",
    "l2 = ['January', 'February', 'April', 'June', 'October', 'December']"
   ]
  },
  {
   "cell_type": "code",
   "execution_count": 40,
   "id": "0521bc63-afed-45c8-bca8-3fc2526de9cb",
   "metadata": {},
   "outputs": [
    {
     "name": "stdout",
     "output_type": "stream",
     "text": [
      "{'matched': ['December', 'June', 'February', 'January'], 'set_in_l1': ['September', 'March', 'May'], 'set_in_l2': ['October', 'April']}\n"
     ]
    }
   ],
   "source": [
    "def func(l1,l2):\n",
    "    set1 = set(l1)\n",
    "    set2 = set(l2)\n",
    "    matched = list(set1.intersection(set2))\n",
    "    set_in_l1 =list(set1 - set2)\n",
    "    set_in_l2 =list(set2 - set1)\n",
    "    return{\n",
    "        'matched':matched,\n",
    "        'set_in_l1':set_in_l1,\n",
    "        'set_in_l2':set_in_l2  \n",
    "         }\n",
    "result=func(l1,l2)\n",
    "print(result)"
   ]
  },
  {
   "cell_type": "code",
   "execution_count": null,
   "id": "c8ee92e3-5ee4-47c8-a8a0-60e271f8ff80",
   "metadata": {},
   "outputs": [],
   "source": []
  },
  {
   "cell_type": "code",
   "execution_count": 38,
   "id": "f6b1b481-2d55-4fc8-8500-07b4f815f419",
   "metadata": {},
   "outputs": [],
   "source": [
    "n1=[456,45,32,456,23,76,76]\n",
    "n2=[67,45,32,65,90,76,32]"
   ]
  },
  {
   "cell_type": "code",
   "execution_count": 41,
   "id": "10bc2598-a75c-4fdd-a0d7-482cd63d045f",
   "metadata": {},
   "outputs": [
    {
     "name": "stdout",
     "output_type": "stream",
     "text": [
      "{'matched': [32, 76, 45], 'set_in_l1': [456, 23], 'set_in_l2': [65, 90, 67]}\n"
     ]
    }
   ],
   "source": [
    "result=func(n1,n2)\n",
    "print(result)"
   ]
  },
  {
   "cell_type": "raw",
   "id": "9e7b3260-8f5b-494b-a8cd-b11d380c0225",
   "metadata": {},
   "source": [
    "Q13: write a UDF to check if a number is prime or not."
   ]
  },
  {
   "cell_type": "code",
   "execution_count": 82,
   "id": "7b1c7131-c992-4413-807d-45c2fb003636",
   "metadata": {},
   "outputs": [
    {
     "name": "stdin",
     "output_type": "stream",
     "text": [
      "Enter the No 47\n"
     ]
    },
    {
     "name": "stdout",
     "output_type": "stream",
     "text": [
      "47 is a prime number.\n"
     ]
    }
   ],
   "source": [
    "def prime_no(numbers):\n",
    "    if numbers <=1:\n",
    "        return False\n",
    "    elif numbers ==2:\n",
    "       return True\n",
    "    elif numbers %2==0:\n",
    "       return False\n",
    "    for i in range(3,int(numbers**0.5) + 1,2):\n",
    "        if numbers %i ==0:\n",
    "            return False\n",
    "        return True\n",
    "\n",
    "numbers=int(input('Enter the No'))\n",
    "if prime_no(numbers):\n",
    "    print(f\"{numbers} is a prime number.\")\n",
    "else:\n",
    "    print(f\"{numbers} is not a prime number.\")\n",
    "\n",
    "    "
   ]
  },
  {
   "cell_type": "raw",
   "id": "0b6e6330-575a-48d9-b1f7-310717aed327",
   "metadata": {},
   "source": [
    "Q14. Write a program which can compute the factorial of a given numbers. \n",
    "#   The results should be printed in a comma-separated sequence on a single line. \n",
    "# input() function can be used for getting user(console) input\n",
    "\n",
    "\n",
    "#Suppose the input is supplied to the program:  8  \n",
    "#Then, the output should be:  40320 \n",
    "#Hints: In case of input data being supplied to the question, it should be assumed to be a console input. \n"
   ]
  },
  {
   "cell_type": "code",
   "execution_count": 95,
   "id": "00881c76-40cf-4013-a653-5b91be659e32",
   "metadata": {},
   "outputs": [
    {
     "name": "stdin",
     "output_type": "stream",
     "text": [
      "Enter the number: 5\n"
     ]
    },
    {
     "name": "stdout",
     "output_type": "stream",
     "text": [
      "factorial of 5:120\n"
     ]
    }
   ],
   "source": [
    "def factorial(n):\n",
    "    if n == 1 or n == 0:\n",
    "        return 1\n",
    "    else:\n",
    "        return n*factorial(n-1)\n",
    "number=int(input('Enter the number:'))\n",
    "result=factorial(number)\n",
    "print(f'factorial of {number}:{result:,}')"
   ]
  },
  {
   "cell_type": "code",
   "execution_count": 100,
   "id": "b8150513-196b-478b-ae38-9ffe60754dc3",
   "metadata": {},
   "outputs": [
    {
     "name": "stdin",
     "output_type": "stream",
     "text": [
      "Enter the number: 4\n"
     ]
    },
    {
     "name": "stdout",
     "output_type": "stream",
     "text": [
      "factorial of 4:24\n"
     ]
    }
   ],
   "source": [
    "def factorial1(n):\n",
    "    result= 1\n",
    "    for i in range(2,n+1):\n",
    "        result*=i\n",
    "    return result\n",
    "number=int(input('Enter the number:'))\n",
    "result=factorial(number)\n",
    "print(f'factorial of {number}:{result:,}')"
   ]
  },
  {
   "cell_type": "raw",
   "id": "999aeec2-1973-4b82-a18c-0e55c0930932",
   "metadata": {},
   "source": [
    "Q15. With a given integral number n, write a program to generate a dictionary that contains (i, i*i) such that is an integral number between 1 and n (both included). and then the program should print the dictionary.\n",
    "\n",
    "#Suppose the following input is supplied to the program: 8\n",
    "#Then, the output should be: {1: 1, 2: 4, 3: 9, 4: 16, 5: 25, 6: 36, 7: 49, 8: 64}\n",
    "#Hints: In case of input data being supplied to the question, it should be assumed to be a console input. Consider using dict()\n",
    "\n"
   ]
  },
  {
   "cell_type": "code",
   "execution_count": 108,
   "id": "ab5d8698-f890-4d97-94bf-687082bfc976",
   "metadata": {},
   "outputs": [
    {
     "name": "stdin",
     "output_type": "stream",
     "text": [
      "Enter the no: 6\n"
     ]
    },
    {
     "name": "stdout",
     "output_type": "stream",
     "text": [
      "{1: 1, 2: 4, 3: 9, 4: 16, 5: 25, 6: 36}\n"
     ]
    }
   ],
   "source": [
    "def sq_dect(n):\n",
    "    square_dict={i: i*i for i in range(1,n+1)}\n",
    "    return square_dict\n",
    "n=int(input('Enter the no:'))\n",
    "result=sq_dect(n)\n",
    "print(result)"
   ]
  },
  {
   "cell_type": "code",
   "execution_count": 110,
   "id": "79d119fe-bb0e-4273-8a85-d7acb628d3bd",
   "metadata": {},
   "outputs": [
    {
     "name": "stdin",
     "output_type": "stream",
     "text": [
      "Enter the no: 9\n"
     ]
    },
    {
     "name": "stdout",
     "output_type": "stream",
     "text": [
      "{1: 1, 2: 4, 3: 9, 4: 16, 5: 25, 6: 36, 7: 49, 8: 64, 9: 81}\n"
     ]
    }
   ],
   "source": [
    "n=int(input('Enter the no:'))\n",
    "square_dict={i: i*i for i in range(1,n+1)}\n",
    "print(square_dict)"
   ]
  },
  {
   "cell_type": "raw",
   "id": "9fc8506a-4f90-4161-9b0d-6e08bd07393b",
   "metadata": {},
   "source": [
    "Q16. Write a program which accepts a sequence of comma-separated numbers from console and generate a list and a tuple which contains every number.\n",
    "#Suppose the following input is supplied to the program: 34,67,55,33,12,98\n",
    "    #Then, the output should be: ['34', '67', '55', '33', '12', '98'] ('34', '67', '55', '33', '12', '98')\n",
    "\n",
    "#Hints: In case of input data being supplied to the question, it should be assumed to be a console input. you may use tuple() method to convert list to tuple\n"
   ]
  },
  {
   "cell_type": "code",
   "execution_count": 119,
   "id": "2c2387ab-4a8f-4866-8b34-4288b358e462",
   "metadata": {},
   "outputs": [
    {
     "name": "stdin",
     "output_type": "stream",
     "text": [
      "Enter the no with comma sep 30,34,35,67,89,23,23\n"
     ]
    },
    {
     "name": "stdout",
     "output_type": "stream",
     "text": [
      "tuple ('30', '34', '35', '67', '89', '23', '23')\n",
      "list ['30', '34', '35', '67', '89', '23', '23']\n"
     ]
    }
   ],
   "source": [
    "input_seq=input('Enter the no with comma sep')\n",
    "number_list=input_seq.split(',')\n",
    "num_tuple=tuple(number_list)\n",
    "print('tuple',num_tuple)\n",
    "print('list',number_list)"
   ]
  },
  {
   "cell_type": "raw",
   "id": "8c1f945a-a407-449c-9bee-4722d2849040",
   "metadata": {},
   "source": [
    "Q17. Write a program that accepts a comma separated sequence of words as input and \n",
    "# prints the words in a comma-separated sequence after sorting them alphabetically.\n",
    "\n",
    "# Suppose the following input is supplied to the program: without,hello,bag,world\n",
    "# Then, the output should be: bag,hello,without,world\n",
    "\n",
    "#Hints: In case of input data being supplied to the question, it should be assumed to be a console input.\n"
   ]
  },
  {
   "cell_type": "code",
   "execution_count": 120,
   "id": "77007b89-1a20-47cb-ab0d-5fecdbe6a29f",
   "metadata": {},
   "outputs": [
    {
     "name": "stdin",
     "output_type": "stream",
     "text": [
      "Enter a comma sep words: heelo,zebra,ram,sunny,apple,fuck\n"
     ]
    },
    {
     "name": "stdout",
     "output_type": "stream",
     "text": [
      "['apple', 'fuck', 'heelo', 'ram', 'sunny', 'zebra']\n"
     ]
    }
   ],
   "source": [
    "words=input('Enter a comma sep words:')\n",
    "word_list=words.split(',')\n",
    "word_list.sort()\n",
    "print(word_list)\n"
   ]
  },
  {
   "cell_type": "raw",
   "id": "f18aa3a2-12a8-4ed0-81d9-b36130517444",
   "metadata": {},
   "source": [
    "Q18. Write a program that accepts a sequence of whitespace separated words \n",
    "# as input and prints the words after removing all duplicate words and sorting them alphanumerically.\n",
    "# Suppose the following input is supplied to the program: hello world and practice makes perfect and hello world again\n",
    "# Then, the output should be: again and hello makes perfect practice world\n",
    "\n",
    "#Hints: In case of input data being supplied to the question, it should be assumed to be a console input.\n",
    "#We use set container to remove duplicated data automatically and then use sorted() to sort the data.\n"
   ]
  },
  {
   "cell_type": "code",
   "execution_count": null,
   "id": "839f24a4-9630-421a-84ed-541a88334ab9",
   "metadata": {},
   "outputs": [],
   "source": []
  },
  {
   "cell_type": "code",
   "execution_count": 129,
   "id": "c62ee457-69ca-4d50-90c3-66c84be3b798",
   "metadata": {},
   "outputs": [
    {
     "name": "stdin",
     "output_type": "stream",
     "text": [
      "Enter the words with whitespace: i love you what are you doing\n"
     ]
    },
    {
     "name": "stdout",
     "output_type": "stream",
     "text": [
      "are doing i love what you\n"
     ]
    }
   ],
   "source": [
    "seq_word=input('Enter the words with whitespace:')\n",
    "word_list1=seq_word.split()\n",
    "unique_word_list=sorted(set(word_list1))\n",
    "result=\" \".join(unique_word_list)\n",
    "                  \n",
    "print(result)"
   ]
  },
  {
   "cell_type": "code",
   "execution_count": null,
   "id": "4da40199-8a05-4309-aae0-5bb7f3ca1767",
   "metadata": {},
   "outputs": [],
   "source": []
  },
  {
   "cell_type": "raw",
   "id": "eb0e3f93-bbbf-447c-b3d3-b7a22dcc63a4",
   "metadata": {},
   "source": [
    "Q19. Write a program that accepts a sentence and calculate the number of upper case \n",
    "# letters and lower case letters.\n",
    "#Suppose the following input is supplied to the program: Hello world!\n",
    "#Then, the output should be: UPPER CASE 1 LOWER CASE 9\n",
    "\n",
    "#Hints: In case of input data being supplied to the question, it should be assumed to be a console input.\n"
   ]
  },
  {
   "cell_type": "code",
   "execution_count": 135,
   "id": "9a705fce-3cfe-4283-b99a-bf8f9b19eb7b",
   "metadata": {},
   "outputs": [
    {
     "name": "stdin",
     "output_type": "stream",
     "text": [
      "Enter the sentence Hello Madam How Are you\n"
     ]
    },
    {
     "name": "stdout",
     "output_type": "stream",
     "text": [
      "UPPER CASE 4,LOWER CASE 15\n"
     ]
    }
   ],
   "source": [
    "cal_word_no=input('Enter the sentence')\n",
    "upper_count=0\n",
    "lower_count=0\n",
    "\n",
    "for i in cal_word_no:\n",
    "    if i.isupper():\n",
    "        upper_count +=1\n",
    "    elif i.islower():\n",
    "        lower_count +=1\n",
    "print(f\"UPPER CASE {upper_count},LOWER CASE {lower_count}\")\n"
   ]
  },
  {
   "cell_type": "code",
   "execution_count": null,
   "id": "e6e08854-c4be-43b9-a5af-05390731303e",
   "metadata": {},
   "outputs": [],
   "source": []
  },
  {
   "cell_type": "raw",
   "id": "5561486f-f279-41dc-a3d2-823e1c3df959",
   "metadata": {},
   "source": [
    "Q20. Write a program that takes a string and returns reversed string. i.e. if input is \"abcd123\" output should be \"321dcba\""
   ]
  },
  {
   "cell_type": "code",
   "execution_count": 140,
   "id": "235a7fb0-d890-4e28-825b-ddc23fbbfe79",
   "metadata": {},
   "outputs": [
    {
     "name": "stdin",
     "output_type": "stream",
     "text": [
      "Enter the strings 657hello darling\n"
     ]
    },
    {
     "name": "stdout",
     "output_type": "stream",
     "text": [
      "gnilrad olleh756\n"
     ]
    }
   ],
   "source": [
    "reversed_st=input('Enter the strings')\n",
    "word2=reversed_st[::-1]\n",
    "print(word2)"
   ]
  },
  {
   "cell_type": "code",
   "execution_count": null,
   "id": "c056718d-b927-4e9e-9f9f-51f9a706f4c0",
   "metadata": {},
   "outputs": [],
   "source": []
  },
  {
   "cell_type": "code",
   "execution_count": null,
   "id": "29c02fb3-b824-4e76-9b97-79bc58dde4dc",
   "metadata": {},
   "outputs": [],
   "source": []
  },
  {
   "cell_type": "code",
   "execution_count": null,
   "id": "07ed2ca4-1b16-4992-9172-bed71af10251",
   "metadata": {},
   "outputs": [],
   "source": []
  },
  {
   "cell_type": "code",
   "execution_count": null,
   "id": "01af4221-271d-4eee-b238-10c193cc9250",
   "metadata": {},
   "outputs": [],
   "source": []
  },
  {
   "cell_type": "code",
   "execution_count": null,
   "id": "7dc243b6-4cea-47bc-9e63-e6d7e06bfb29",
   "metadata": {},
   "outputs": [],
   "source": []
  },
  {
   "cell_type": "code",
   "execution_count": null,
   "id": "09b681db-d69c-4df4-b1d4-40199bb8f61f",
   "metadata": {},
   "outputs": [],
   "source": []
  }
 ],
 "metadata": {
  "kernelspec": {
   "display_name": "Python 3 (ipykernel)",
   "language": "python",
   "name": "python3"
  },
  "language_info": {
   "codemirror_mode": {
    "name": "ipython",
    "version": 3
   },
   "file_extension": ".py",
   "mimetype": "text/x-python",
   "name": "python",
   "nbconvert_exporter": "python",
   "pygments_lexer": "ipython3",
   "version": "3.12.7"
  }
 },
 "nbformat": 4,
 "nbformat_minor": 5
}
